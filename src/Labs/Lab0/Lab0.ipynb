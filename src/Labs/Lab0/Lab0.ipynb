{
 "cells": [
  {
   "cell_type": "code",
   "execution_count": 9,
   "metadata": {},
   "outputs": [],
   "source": [
    "file = \"C:\\\\Users\\\\Maxwell\\\\Documents\\\\Code\\\\Python\\\\APS360\\\\src\\\\Labs\\\\Lab0\\\\train.csv\"\n",
    "\n",
    "import csv\n",
    "with open(file) as csvfile:\n",
    "    data_reader = csv.reader(csvfile)\n",
    "    data_orig = []\n",
    "    for row in data_reader:\n",
    "        data_orig.append(row)"
   ]
  },
  {
   "cell_type": "code",
   "execution_count": 75,
   "metadata": {},
   "outputs": [],
   "source": [
    "import numpy as np\n",
    "data_numpy = np.array(data_orig)"
   ]
  },
  {
   "cell_type": "code",
   "execution_count": 83,
   "metadata": {},
   "outputs": [
    {
     "name": "stdout",
     "output_type": "stream",
     "text": [
      "Males:  64.76\n",
      "Females  35.24\n"
     ]
    }
   ],
   "source": [
    "sex_index = np.where(data_numpy[0,:] == 'Sex')[0][0]\n",
    "indices_male = np.where(data_numpy[1: , sex_index] == 'male')\n",
    "\n",
    "percent_male = round(len(indices_male[0])/len(data_numpy[1:])*100, 2)\n",
    "percent_female = round(100 - percent_male, 2)\n",
    "\n",
    "print(\"Males: \", percent_male)\n",
    "print(\"Females \", percent_female)"
   ]
  },
  {
   "cell_type": "code",
   "execution_count": 139,
   "metadata": {},
   "outputs": [
    {
     "name": "stdout",
     "output_type": "stream",
     "text": [
      "PassengerId :  0\n",
      "Survived :  1\n",
      "Pclass :  2\n",
      "Name :  3\n",
      "Sex :  4\n",
      "Age :  5\n",
      "SibSp :  6\n",
      "Parch :  7\n",
      "Ticket :  8\n",
      "Fare :  9\n",
      "Cabin :  10\n",
      "Embarked :  11\n"
     ]
    }
   ],
   "source": [
    "fields = {}\n",
    "for i in range(len(data_numpy[0])):\n",
    "    fields[data_numpy[0, i]] = i\n",
    "    \n",
    "for field in fields:\n",
    "    print(field, ': ', fields[field])"
   ]
  },
  {
   "cell_type": "code",
   "execution_count": 142,
   "metadata": {},
   "outputs": [
    {
     "name": "stdout",
     "output_type": "stream",
     "text": [
      "Survived :  {'0', '1'}\n",
      "Pclass :  {'2', '3', '1'}\n",
      "Sex :  {'male', 'female'}\n",
      "SibSp :  {'4', '1', '8', '5', '0', '3', '2'}\n",
      "Parch :  {'4', '1', '5', '3', '0', '2', '6'}\n",
      "Embarked :  {'Q', '', 'S', 'C'}\n"
     ]
    }
   ],
   "source": [
    "values = {}\n",
    "valuesOfInterest = ['Survived', 'Pclass', 'Sex', 'SibSp', 'Parch', 'Embarked']\n",
    "for field in valuesOfInterest:\n",
    "    values[field] = set(data_numpy[1:, fields[field]])\n",
    "    \n",
    "for value in values:\n",
    "    print(value, ': ', values[value])"
   ]
  },
  {
   "cell_type": "code",
   "execution_count": 117,
   "metadata": {},
   "outputs": [],
   "source": [
    "def get_survival(characteristics):\n",
    "    indices = set()\n",
    "    for i in range(len(characteristics)):\n",
    "        field = characteristics[i][0]\n",
    "        val = characteristics[i][1]\n",
    "        new_indices = set(list(np.where(data_numpy[0:,fields[field]] == val)[0]))\n",
    "\n",
    "        if len(indices) == 0:\n",
    "            indices = new_indices\n",
    "        else:\n",
    "            indices &= new_indices\n",
    "            \n",
    "    indices_survived = set(list(np.where(data_numpy[0:, fields[\"Survived\"]] == \"1\")[0]))\n",
    "    \n",
    "    return len(indices_survived & indices)/len(indices) * 100"
   ]
  },
  {
   "cell_type": "code",
   "execution_count": 148,
   "metadata": {},
   "outputs": [
    {
     "name": "stdout",
     "output_type": "stream",
     "text": [
      "18.89 % of male passengers survived\n",
      "74.2 % of female passengers survived\n",
      "36.89 % of male class 1 passengers survived\n",
      "96.81 % of female class 1 passengers survived\n"
     ]
    }
   ],
   "source": [
    "percentMaleSurvived = get_survival([(\"Sex\", \"male\")])\n",
    "print(round(percentMaleSurvived, 2), '% of male passengers survived')\n",
    "\n",
    "percentFemaleSurvived = get_survival([(\"Sex\", \"female\")])\n",
    "print(round(percentFemaleSurvived, 2), '% of female passengers survived')\n",
    "\n",
    "percentMaleClassOneSurvived = get_survival([(\"Sex\", \"male\"), (\"Pclass\", '1')])\n",
    "print(round(percentMaleClassOneSurvived, 2), '% of male class 1 passengers survived')\n",
    "\n",
    "percentFemaleClassOneSurvived = get_survival([(\"Sex\", \"female\"), (\"Pclass\", '1')])\n",
    "print(round(percentFemaleClassOneSurvived, 2), '% of female class 1 passengers survived')"
   ]
  },
  {
   "cell_type": "code",
   "execution_count": 161,
   "metadata": {},
   "outputs": [
    {
     "name": "stdout",
     "output_type": "stream",
     "text": [
      "100.0 % chance Laina Heikkinen survived\n",
      "100.0 % chance Michael Navratil survived\n",
      "0.0 % chance Augusta Planke survived\n",
      "7.69 % chance Owen Harris Braund survived\n"
     ]
    }
   ],
   "source": [
    "Laina_Heikkinen = [(\"Pclass\", '3'), (\"Sex\", \"female\"), (\"Age\", \"26\"), (\"SibSp\", '0'), \n",
    "                   (\"Parch\", '0'), (\"Fare\", \"7.925\"), (\"Embarked\", 'S')]\n",
    "print(round(get_survival(Laina_Heikkinen), 2), \"% chance Laina Heikkinen survived\")\n",
    "\n",
    "Michael_Navratil = [(\"Pclass\", '2'), (\"Sex\", \"male\"), (\"Age\", '3'), (\"SibSp\", '1'), \n",
    "                    (\"Parch\", '1'), (\"Fare\", \"26\"), (\"Embarked\", 'S')]\n",
    "print(round(get_survival(Michael_Navratil), 2), \"% chance Michael Navratil survived\")\n",
    "\n",
    "Augusta_Planke = [(\"Pclass\", '3'), (\"Sex\", \"female\"), (\"Age\", \"18\"), (\"SibSp\", '2'),\n",
    "                 (\"Parch\", '0'), (\"Fare\", \"18\"), (\"Embarked\", 'S')]\n",
    "print(round(get_survival(Augusta_Planke), 2), \"% chance Augusta Planke survived\")\n",
    "\n",
    "Owen_Harris_Braund = [(\"Pclass\", '1'), (\"Sex\", \"male\"), (\"Age\", \"22\"), (\"SibSp\", '1'),\n",
    "                     (\"Parch\", '0'), (\"Fare\", \"7.25\"), (\"Embarked\", 'S')]\n",
    "print(round(get_survival(Owen_Harris_Braund), 2), \"% chance Owen Harris Braund survived\")\n",
    "\n",
    "# Calculations of probability are solely based upon whether each category the passenger falls in \n",
    "# is a category where someone survived. Probability is accurate for 100% and 0% cases but not for anything inbetween.\n",
    "# Non 100 and non zero cases simply tell what proportion of those people survived.\n",
    "\n",
    "\n"
   ]
  },
  {
   "cell_type": "code",
   "execution_count": 166,
   "metadata": {},
   "outputs": [],
   "source": [
    "import matplotlib.pyplot as plt"
   ]
  },
  {
   "cell_type": "code",
   "execution_count": 179,
   "metadata": {},
   "outputs": [
    {
     "data": {
      "image/png": "[encoded data removed]",
      "text/plain": [
       "<Figure size 432x288 with 1 Axes>"
      ]
     },
     "metadata": {
      "needs_background": "light"
     },
     "output_type": "display_data"
    }
   ],
   "source": [
    "male_survived = 18.9\n",
    "female_survived= 74.2\n",
    "survived_percent = [male_survived, female_survived]\n",
    "\n",
    "pos = [0, 1]\n",
    "plt.bar(pos, survived_percent, align=\"center\")\n",
    "plt.title(\"Survival Percentage Based on Gender\")\n",
    "plt.ylabel(\"Percentage\")\n",
    "plt.xlabel(\"Gender\")\n",
    "plt.xticks(pos, [\"Males Survived\", \"Females Survived\"])\n",
    "plt.show()"
   ]
  },
  {
   "cell_type": "code",
   "execution_count": 212,
   "metadata": {},
   "outputs": [
    {
     "data": {
      "image/png": "[encoded data removed]",
      "text/plain": [
       "<Figure size 432x288 with 2 Axes>"
      ]
     },
     "metadata": {
      "needs_background": "light"
     },
     "output_type": "display_data"
    }
   ],
   "source": [
    "male_class_survived = [36.88, 15.74, 13.54]\n",
    "female_class_survived = [96.8, 92.1, 50.0] # calculated with get_survival function separately\n",
    "\n",
    "pos = range(len(male_class_survived))\n",
    "posValues = [\"1st\", \"2nd\", \"3rd\"]\n",
    "\n",
    "fig, a = plt.subplots(1, 2)\n",
    "fig.suptitle(\"Survival Percentage Based on Class\")\n",
    "\n",
    "a[0].bar(pos, male_class_survived, align=\"center\")\n",
    "a[0].set_title(\"Males\")\n",
    "\n",
    "a[1].bar(pos, female_class_survived, align=\"center\")\n",
    "a[1].set_title(\"Females\")\n",
    "\n",
    "for a in a.flat:\n",
    "    a.set(xlabel=\"Class\", ylabel=\"Percentage\", xticks=pos, xticklabels=posValues)\n",
    "    a.set_ylim([0, 100])\n",
    "    \n",
    "plt.subplots_adjust(wspace=0.5)\n",
    "plt.show()"
   ]
  },
  {
   "cell_type": "code",
   "execution_count": 219,
   "metadata": {},
   "outputs": [],
   "source": [
    "index = fields[\"Age\"]\n",
    "age = data_numpy[1:, index]\n",
    "age[age==''] = np.nan\n",
    "age = age.astype(float)"
   ]
  },
  {
   "cell_type": "code",
   "execution_count": 223,
   "metadata": {},
   "outputs": [
    {
     "data": {
      "image/png": "[encoded data removed]",
      "text/plain": [
       "<Figure size 432x288 with 1 Axes>"
      ]
     },
     "metadata": {
      "needs_background": "light"
     },
     "output_type": "display_data"
    }
   ],
   "source": [
    "plt.hist(age[np.isnan(age)==0], bins=30)\n",
    "plt.title(\"Passenger Age Histogram\")\n",
    "plt.xlabel(\"Age (years)\")\n",
    "plt.ylabel(\"Count\")\n",
    "plt.show()"
   ]
  },
  {
   "cell_type": "code",
   "execution_count": 268,
   "metadata": {},
   "outputs": [
    {
     "data": {
      "image/png": "[encoded data removed]",
      "text/plain": [
       "<Figure size 432x288 with 1 Axes>"
      ]
     },
     "metadata": {
      "needs_background": "light"
     },
     "output_type": "display_data"
    }
   ],
   "source": [
    "agesOfSurvivors = data_numpy[1:, fields[\"Age\"]][np.where(data_numpy[1:, fields[\"Survived\"]] == '1')[0]]\n",
    "agesOfNonSurvivors = data_numpy[1:, fields[\"Age\"]][np.where(data_numpy[1:, fields[\"Survived\"]] == '0')[0]]\n",
    "agesOfSurvivors = agesOfSurvivors.astype(float)\n",
    "agesOfNonSurvivors = agesOfNonSurvivors.astype(float)\n",
    "\n",
    "\n",
    "plt.hist(agesOfSurvivors[~np.isnan(agesOfSurvivors)], bins=30, alpha=0.7, label=\"Survivors\")\n",
    "plt.hist(agesOfNonSurvivors[~np.isnan(agesOfNonSurvivors)], bins=30, alpha=0.7, label=\"Non Survivors\")\n",
    "plt.title(\"Histogram of Survivor and Non Survivor Ages\")\n",
    "plt.legend(loc=\"upper right\")\n",
    "plt.ylabel(\"Count\")\n",
    "plt.xlabel(\"Age\")\n",
    "plt.show()"
   ]
  },
  {
   "cell_type": "code",
   "execution_count": 275,
   "metadata": {},
   "outputs": [],
   "source": [
    "class Titanic_Data:\n",
    "    def __init__(self ,Filename):\n",
    "        with open(Filename, 'r') as csvfile:\n",
    "            data_reader = csv.reader(csvfile)\n",
    "            data_orig = []\n",
    "            for row in data_reader:\n",
    "                data_orig.append(row)\n",
    "             \n",
    "        fields = {}\n",
    "        for i in range(len(data_orig[0])):\n",
    "            fields[data_orig[0][i]] = i\n",
    "            \n",
    "        self.data = np.array(data_orig[1:])\n",
    "        self.fields = fields\n",
    "        \n",
    "    def get_survival(self, characteristics):\n",
    "        indices = set()\n",
    "        for i in range(len(characteristics)):\n",
    "            field = characteristic[i][0]\n",
    "            val = characteristic[i][1]\n",
    "            new_indices = set(list(np.where(self.data[0:, self.fields[field]] == val)[0]))\n",
    "            \n",
    "            if len(indices == 0):\n",
    "                indices = new_indices\n",
    "            else:\n",
    "                indices &= new_indices\n",
    "                \n",
    "        indices_survived = set(list(np.where(self.data[0:, self.fields[\"Survived\"]] == '1')[0]))\n",
    "            \n",
    "        return len(indicies_survived & indices)/len(indices)*100\n",
    "    \n",
    "    def clean_data(self):\n",
    "        self.clean(\"Sex\", [\"male\", \"female\"])\n",
    "        self.clean(\"Embarked\", ['C', 'Q', 'S'])\n",
    "        self.clean(\"Age\")\n",
    "        self.clean(\"Pclass\")\n",
    "        self.clean(\"SibSp\")\n",
    "        self.clean(\"Parch\")\n",
    "        self.clean(\"Fare\")\n",
    "        \n",
    "    def clean(self, col_header, values = []):\n",
    "        column = self.data[:, self.fields[col_header]]\n",
    "        column[column==''] = np.nan\n",
    "        \n",
    "        for i in range(len(values)):\n",
    "            column[column==values[i]] = i\n",
    "            \n",
    "        self.data[:, self.fields[col_header]] = column\n",
    "        \n",
    "    def keep_columns(self, L):\n",
    "        feature_data = self.data[:, L]\n",
    "        feature_data = feature_data.astype(float)\n",
    "        \n",
    "        return feature_data                                           "
   ]
  },
  {
   "cell_type": "code",
   "execution_count": 280,
   "metadata": {},
   "outputs": [],
   "source": [
    "titanic = Titanic_Data(file)\n",
    "titanic.clean_data()"
   ]
  },
  {
   "cell_type": "code",
   "execution_count": 296,
   "metadata": {},
   "outputs": [],
   "source": [
    "feature_data = titanic.keep_columns([1, 2, 4, 5, 6, 7, 9, 11])\n",
    "feature_data[np.isnan(feature_data)] = -1\n",
    "\n",
    "halfway = len(feature_data)//2\n",
    "training_data = feature_data[0:halfway, 1:]\n",
    "testing_data = feature_data[halfway:, 1:]\n",
    "\n",
    "training_labels = feature_data[0:halfway, 0]\n",
    "testing_labels = feature_data[halfway:,0]"
   ]
  },
  {
   "cell_type": "code",
   "execution_count": 302,
   "metadata": {},
   "outputs": [
    {
     "data": {
      "text/plain": [
       "DecisionTreeClassifier(class_weight=None, criterion='gini', max_depth=5,\n",
       "            max_features=None, max_leaf_nodes=None,\n",
       "            min_impurity_decrease=0.0, min_impurity_split=None,\n",
       "            min_samples_leaf=1, min_samples_split=2,\n",
       "            min_weight_fraction_leaf=0.0, presort=False, random_state=None,\n",
       "            splitter='best')"
      ]
     },
     "execution_count": 302,
     "metadata": {},
     "output_type": "execute_result"
    }
   ],
   "source": [
    "from sklearn.tree import DecisionTreeClassifier\n",
    "\n",
    "model = DecisionTreeClassifier(max_depth=5)\n",
    "model.fit(training_data, training_labels)"
   ]
  },
  {
   "cell_type": "code",
   "execution_count": 306,
   "metadata": {},
   "outputs": [
    {
     "name": "stdout",
     "output_type": "stream",
     "text": [
      "Predicted survival outcome:  [1. 1. 0. 0.]\n"
     ]
    }
   ],
   "source": [
    "passenger_ids = np.array([3, 194, 39, 1])\n",
    "testcase_data = feature_data[passenger_ids-1, 1:]\n",
    "testcase_predict = model.predict(testcase_data)\n",
    "print(\"Predicted survival outcome: \", testcase_predict)"
   ]
  },
  {
   "cell_type": "code",
   "execution_count": 310,
   "metadata": {},
   "outputs": [
    {
     "name": "stdout",
     "output_type": "stream",
     "text": [
      "Training Sample Labels: \t [0. 1. 1. 1. 0. 0. 0. 0. 1. 1.]\n",
      "Predicted Survival Outcome: \t [0. 1. 1. 1. 0. 0. 0. 0. 1. 1.]\n"
     ]
    }
   ],
   "source": [
    "print(\"Training Sample Labels: \\t\", training_labels[0:10])\n",
    "sample_predict = model.predict(training_data[0:10, :])\n",
    "print(\"Predicted Survival Outcome: \\t\", sample_predict)"
   ]
  },
  {
   "cell_type": "code",
   "execution_count": 312,
   "metadata": {},
   "outputs": [
    {
     "name": "stdout",
     "output_type": "stream",
     "text": [
      "Testing Sample Labels: \t\t [1. 1. 1. 1. 1. 0. 0. 0. 1. 0.]\n",
      "Predicted Survival Outcome: \t [0. 1. 0. 0. 0. 0. 0. 0. 0. 0.]\n"
     ]
    }
   ],
   "source": [
    "print(\"Testing Sample Labels: \\t\\t\", testing_labels[0:10])\n",
    "sample_predict = model.predict(testing_data[0:10, :])\n",
    "print(\"Predicted Survival Outcome: \\t\", sample_predict)"
   ]
  },
  {
   "cell_type": "code",
   "execution_count": 314,
   "metadata": {},
   "outputs": [
    {
     "name": "stdout",
     "output_type": "stream",
     "text": [
      "Testing data performance  77.58 % correctly predicted\n"
     ]
    }
   ],
   "source": [
    "testing_predicted = model.predict(testing_data)\n",
    "score = round((1-sum(abs(testing_predicted-testing_labels))/len(testing_predicted))*100, 2)\n",
    "print(\"Testing data performance \", score, \"% correctly predicted\")"
   ]
  },
  {
   "cell_type": "code",
   "execution_count": 316,
   "metadata": {},
   "outputs": [
    {
     "name": "stdout",
     "output_type": "stream",
     "text": [
      "Training data performance  85.39 % correctly predicted\n"
     ]
    }
   ],
   "source": [
    "training_predicted = model.predict(training_data)\n",
    "score = round((1-sum(abs(training_predicted-training_labels))/len(training_predicted))*100, 2)\n",
    "print(\"Training data performance \", score, \"% correctly predicted\")"
   ]
  },
  {
   "cell_type": "code",
   "execution_count": 323,
   "metadata": {
    "scrolled": false
   },
   "outputs": [
    {
     "name": "stdout",
     "output_type": "stream",
     "text": [
      "DT Test:  76.68\n"
     ]
    }
   ],
   "source": [
    "model = DecisionTreeClassifier(max_depth=15)\n",
    "model.fit(training_data, training_labels)\n",
    "\n",
    "testing_predicted = model.predict(testing_data)\n",
    "score = round((1-sum(abs(testing_predicted-testing_labels))/len(testing_predicted))*100, 2)\n",
    "print(\"DT Test: \", score)"
   ]
  },
  {
   "cell_type": "code",
   "execution_count": 324,
   "metadata": {},
   "outputs": [
    {
     "name": "stdout",
     "output_type": "stream",
     "text": [
      "RF Test:  79.82\n"
     ]
    }
   ],
   "source": [
    "from sklearn.ensemble import RandomForestClassifier\n",
    "model = RandomForestClassifier(n_estimators=250)\n",
    "model.fit(training_data, training_labels)\n",
    "\n",
    "testing_predicted = model.predict(testing_data)\n",
    "score = round((1-sum(abs(testing_predicted-testing_labels))/len(testing_predicted))*100, 2)\n",
    "print(\"RF Test: \", score)"
   ]
  },
  {
   "cell_type": "code",
   "execution_count": 325,
   "metadata": {},
   "outputs": [
    {
     "name": "stdout",
     "output_type": "stream",
     "text": [
      "SVM Test:  61.43\n"
     ]
    }
   ],
   "source": [
    "from sklearn import svm\n",
    "model = svm.SVC(gamma=2, C=1)\n",
    "model.fit(training_data, training_labels)\n",
    "\n",
    "testing_predicted = model.predict(testing_data)\n",
    "score = round((1-sum(abs(testing_predicted-testing_labels))/len(testing_predicted))*100, 2)\n",
    "print(\"SVM Test: \", score)"
   ]
  },
  {
   "cell_type": "code",
   "execution_count": 326,
   "metadata": {},
   "outputs": [
    {
     "name": "stdout",
     "output_type": "stream",
     "text": [
      "NB Test:  61.43\n"
     ]
    }
   ],
   "source": [
    "from sklearn.naive_bayes import GaussianNB\n",
    "model = GaussianNB()\n",
    "model.fit(training_data, training_labels)\n",
    "\n",
    "testing_predicted = model.predict(testing_data)\n",
    "sc0re = round((1-sum(abs(testing_predicted-testing_labels))/len(testing_predicted))*100, 2)\n",
    "print(\"NB Test: \", score)"
   ]
  },
  {
   "cell_type": "code",
   "execution_count": 328,
   "metadata": {},
   "outputs": [
    {
     "name": "stdout",
     "output_type": "stream",
     "text": [
      "Jack Survival:  [0.]\n",
      "Rose Survival:  [1.]\n"
     ]
    }
   ],
   "source": [
    "model = DecisionTreeClassifier(max_depth=15)\n",
    "model.fit(training_data, training_labels)\n",
    "\n",
    "test_jack = np.array([3, 0, 25, 0, 0, 7, 2])\n",
    "test_rose = np.array([1, 1, 22, 1, 0, 50, 2])\n",
    "\n",
    "testing_predicted = model.predict(test_jack.reshape(1, -1))\n",
    "print(\"Jack Survival: \", testing_predicted)\n",
    "\n",
    "testing_predicted = model.predict(test_rose.reshape(1, -1))\n",
    "print(\"Rose Survival: \", testing_predicted)"
   ]
  }
 ],
 "metadata": {
  "kernelspec": {
   "display_name": "Python 3",
   "language": "python",
   "name": "python3"
  },
  "language_info": {
   "codemirror_mode": {
    "name": "ipython",
    "version": 3
   },
   "file_extension": ".py",
   "mimetype": "text/x-python",
   "name": "python",
   "nbconvert_exporter": "python",
   "pygments_lexer": "ipython3",
   "version": "3.7.1"
  }
 },
 "nbformat": 4,
 "nbformat_minor": 2
}
