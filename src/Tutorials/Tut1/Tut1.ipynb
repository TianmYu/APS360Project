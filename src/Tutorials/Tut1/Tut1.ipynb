{
 "cells": [
  {
   "cell_type": "code",
   "execution_count": 1,
   "metadata": {},
   "outputs": [],
   "source": [
    "import math"
   ]
  },
  {
   "cell_type": "code",
   "execution_count": 5,
   "metadata": {},
   "outputs": [],
   "source": [
    "x = [[1,0.1,-0.2],\n",
    "    [1,-0.1,0.9],\n",
    "    [1,1.2,0.1],\n",
    "    [1,1.1,1.5]]\n",
    "\n",
    "t=[0,0,0,1]\n",
    "\n",
    "w=[1,-1,1]\n",
    "\n",
    "iterations = 50\n",
    "learning = 10"
   ]
  },
  {
   "cell_type": "code",
   "execution_count": 7,
   "metadata": {},
   "outputs": [],
   "source": [
    "def simple_ann(x,w,t,iterations,learning):\n",
    "    \n",
    "    E = []\n",
    "    \n",
    "    for i in range(iterations):\n",
    "        err = []\n",
    "        y = []\n",
    "        for n in range(len(x)):\n",
    "            v = 0\n",
    "            for p in range(len(x[0])):\n",
    "                v += x[n][p]*w[p]\n",
    "            y.append(1/(1+math.e**(-v)))\n",
    "            err.append((y[n]-t[n])**2)\n",
    "            for p in range(len(w)):\n",
    "                d=x[n][p]*(y[n]-t[n])*(1-y[n])*(y[n])\n",
    "                w[p] -= learning*d\n",
    "        E.append(sum(err)/len(x))\n",
    "        \n",
    "    return (y,w,E)\n",
    "\n",
    "(y,w,E) = simple_ann(x,w,t,iterations,learning)           "
   ]
  },
  {
   "cell_type": "code",
   "execution_count": 8,
   "metadata": {},
   "outputs": [
    {
     "name": "stdout",
     "output_type": "stream",
     "text": [
      "[0.00030002228436561975, 0.03817657988217242, 0.03260059991237718, 0.9622728810554605]\n"
     ]
    }
   ],
   "source": [
    "print(y)"
   ]
  },
  {
   "cell_type": "code",
   "execution_count": 12,
   "metadata": {},
   "outputs": [],
   "source": [
    "x = [[1,0.1,-0.2],\n",
    "    [1,-0.1,0.9],\n",
    "    [1,1.2,0.1],\n",
    "    [1,1.1,1.5]]\n",
    "\n",
    "t=[0,0,0,1]\n",
    "\n",
    "w=[1,-1,1]\n",
    "\n",
    "iterations = 50\n",
    "learning = 10\n",
    "\n",
    "def simple_ann2(x,w,t,iterations,learning):\n",
    "    \n",
    "    E = []\n",
    "    \n",
    "    for i in range(iterations):\n",
    "        err = []\n",
    "        y = []\n",
    "        for n in range(len(x)):\n",
    "            v = 0\n",
    "            for p in range(len(x[0])):\n",
    "                v += x[n][p]*w[p]\n",
    "            y.append(1/(1+math.e**(-v)))\n",
    "            err.append(-t[n]*math.log(y[n])-(1-t[n])*math.log(1-y[n]))\n",
    "            for p in range(len(w)):\n",
    "                d = x[n][p]*(y[n]-t[n])\n",
    "                w[p] -= learning*d\n",
    "                \n",
    "        E.append(sum(err))\n",
    "        \n",
    "    return (y,w,E)\n",
    "\n",
    "(y,w,E) = simple_ann2(x,w,t,iterations,learning)"
   ]
  },
  {
   "cell_type": "code",
   "execution_count": 13,
   "metadata": {},
   "outputs": [
    {
     "name": "stdout",
     "output_type": "stream",
     "text": [
      "[2.5634098868906284e-08, 0.00038213770365918653, 0.0014428852065389562, 0.9988476237831357]\n",
      "[5.882462714414832, 13.448442964182478, 0.007369219521329642, 0.0066562613570046135, 0.006140142271740337, 0.005752251616419142, 0.005451762104364174, 0.005212871393349426, 0.005018528607309364, 0.004857078694744521, 0.004720344434835456, 0.004602469911273602, 0.004499192019889414, 0.004407364897002119, 0.004324640256823818, 0.0042492473519291345, 0.004179838552160867, 0.004115379257031539, 0.004055068400257753, 0.0039982804353793444, 0.003944522622660181, 0.0038934033446969296, 0.0038446084492407013, 0.0037978834825767864, 0.003753020275662409, 0.0037098467660746067, 0.0036682192382573534, 0.003628016379790768, 0.0035891347074775955, 0.003551485030998191, 0.0035149897056482257, 0.0034795804875388837, 0.0034451968505687406, 0.003411784658707873, 0.003379295112755776, 0.003347683909975475, 0.0033169105695026666, 0.003286937887398556, 0.0032577314935275086, 0.003229259488769813, 0.003201492145909961, 0.0031744016612450174, 0.00314796194678749, 0.003122148455136713, 0.003096938030779458, 0.0030723087828894275, 0.0030482399757221232, 0.0030247119334892636, 0.003001705957229048, 0.0029792042516686617]\n"
     ]
    }
   ],
   "source": [
    "print(y)\n",
    "print(E)"
   ]
  },
  {
   "cell_type": "code",
   "execution_count": 14,
   "metadata": {},
   "outputs": [],
   "source": [
    "from sklearn.datasets import load_iris\n",
    "features, labels = load_iris(return_X_y=True)"
   ]
  },
  {
   "cell_type": "code",
   "execution_count": 15,
   "metadata": {},
   "outputs": [],
   "source": [
    "import numpy as np\n",
    "\n",
    "indices = np.array(range(100))\n",
    "\n",
    "x = np.zeros((len(indices), 4+1))\n",
    "x[:,1:5] = features[indices,:]\n",
    "\n",
    "x[:,0] = np.ones(len(indices))\n",
    "\n",
    "t = labels[indices]\n",
    "\n",
    "w = np.random.rand(5)\n",
    "\n",
    "iterations = 100\n",
    "learning = 0.0001"
   ]
  },
  {
   "cell_type": "code",
   "execution_count": 18,
   "metadata": {},
   "outputs": [],
   "source": [
    "def  simple_ann3(x,w,t,iterations,learning):\n",
    "    \n",
    "    E = []\n",
    "    \n",
    "    for i in range(iterations):\n",
    "        err = []\n",
    "        y = []\n",
    "        for n in range(len(x)):\n",
    "            v = 0\n",
    "            for p in range(len(x[0])):\n",
    "                v += x[n,p]*w[p]\n",
    "            y.append(1/(1+math.e**(-v)))\n",
    "            err.append(-t[n]*math.log(y[n]+0.000001) - (1-t[n])*math.log(1-y[n]+0.000001))\n",
    "            \n",
    "        E.append(sum(err))\n",
    "        \n",
    "    return (y,w,E)\n",
    "\n",
    "(y,w,E) = simple_ann3(x,w,t,iterations,learning)"
   ]
  },
  {
   "cell_type": "code",
   "execution_count": 19,
   "metadata": {},
   "outputs": [
    {
     "name": "stdout",
     "output_type": "stream",
     "text": [
      "0 0.9999270354775904\n",
      "0 0.9998768875688924\n",
      "0 0.9998583421415485\n",
      "0 0.9998640820434435\n",
      "0 0.999925540568327\n",
      "0 0.9999734672540033\n",
      "0 0.9998877670985458\n",
      "0 0.9999226477260647\n",
      "0 0.9997939552299756\n",
      "0 0.9998868369191561\n",
      "0 0.9999559791551815\n",
      "0 0.9999163160436599\n",
      "0 0.9998535421351359\n",
      "0 0.999691408040867\n",
      "0 0.9999662073420392\n",
      "0 0.9999824416953033\n",
      "0 0.9999604547022823\n",
      "0 0.9999329430029542\n",
      "0 0.999976332979526\n",
      "0 0.9999506490047289\n",
      "0 0.9999556569682874\n",
      "0 0.9999514076238916\n",
      "0 0.9998414360788652\n",
      "0 0.9999518044047353\n",
      "0 0.9999379612727952\n",
      "0 0.9999077629414234\n",
      "0 0.9999408695742492\n",
      "0 0.9999396000048661\n",
      "0 0.9999285003759625\n",
      "0 0.9998949810045289\n",
      "0 0.9998970893897788\n",
      "0 0.9999542760737826\n",
      "0 0.9999565427869495\n",
      "0 0.999968483922692\n",
      "0 0.9998959987562911\n",
      "0 0.9998802356421583\n",
      "0 0.9999435783716802\n",
      "0 0.999911420236712\n",
      "0 0.9997875061968612\n",
      "0 0.9999292501976927\n",
      "0 0.9999189937850679\n",
      "0 0.9997106079253008\n",
      "0 0.9998148712126956\n",
      "0 0.9999533841161192\n",
      "0 0.9999695690421656\n",
      "0 0.9998762964497655\n",
      "0 0.9999513999321723\n",
      "0 0.9998598276146191\n",
      "0 0.9999518709476141\n",
      "0 0.99990843308411\n",
      "1 0.9999997777778119\n",
      "1 0.9999995741265106\n",
      "1 0.9999998040474618\n",
      "1 0.9999965525102118\n",
      "1 0.9999995355182104\n",
      "1 0.9999987593647242\n",
      "1 0.9999996728402172\n",
      "1 0.9999857643208538\n",
      "1 0.9999995305208761\n",
      "1 0.9999965274691675\n",
      "1 0.9999859480434627\n",
      "1 0.9999989698347863\n",
      "1 0.9999969541937118\n",
      "1 0.9999993899435111\n",
      "1 0.9999968924500695\n",
      "1 0.9999995802696954\n",
      "1 0.9999990019085504\n",
      "1 0.9999976656608329\n",
      "1 0.9999989856150553\n",
      "1 0.9999964063316381\n",
      "1 0.9999996171445069\n",
      "1 0.9999985701547679\n",
      "1 0.9999994938168411\n",
      "1 0.9999992261576425\n",
      "1 0.9999992429817821\n",
      "1 0.9999995083419918\n",
      "1 0.9999996832419598\n",
      "1 0.9999998081665019\n",
      "1 0.9999992516415708\n",
      "1 0.9999950245417724\n",
      "1 0.9999953488544048\n",
      "1 0.9999944081011075\n",
      "1 0.9999975929635987\n",
      "1 0.9999995661432785\n",
      "1 0.9999988069141504\n",
      "1 0.9999995127755668\n",
      "1 0.9999997140359432\n",
      "1 0.9999988671304216\n",
      "1 0.9999982387187037\n",
      "1 0.9999969965598557\n",
      "1 0.9999979534177444\n",
      "1 0.9999993708451945\n",
      "1 0.9999976660302956\n",
      "1 0.9999860501450153\n",
      "1 0.9999980396872646\n",
      "1 0.9999984135780488\n",
      "1 0.9999984379655343\n",
      "1 0.9999990950851585\n",
      "1 0.9999862198685122\n",
      "1 0.9999981508924883\n"
     ]
    }
   ],
   "source": [
    "for i in range(len(t)):\n",
    "    print(t[i],y[i])"
   ]
  },
  {
   "cell_type": "code",
   "execution_count": 21,
   "metadata": {},
   "outputs": [
    {
     "data": {
      "image/png": "[encoded data removed]",
      "text/plain": [
       "<Figure size 360x288 with 2 Axes>"
      ]
     },
     "metadata": {
      "needs_background": "light"
     },
     "output_type": "display_data"
    }
   ],
   "source": [
    "from matplotlib import pyplot as plt\n",
    "\n",
    "indices = np.array(range(100))\n",
    "\n",
    "selected_features = features[indices,:]\n",
    "selected_labels = labels[indices]\n",
    "\n",
    "feature_name = ['sepal length in cm', 'sepal width in cm', 'petal length in cm', 'petal width in cm']\n",
    "\n",
    "x_index = 0\n",
    "y_index = 1\n",
    "\n",
    "plt.figure(figsize=(5,4))\n",
    "plt.scatter(selected_features[:,x_index], selected_features[:,y_index], c=selected_labels)\n",
    "plt.colorbar(ticks=[0,1,2])\n",
    "plt.xlabel(feature_name[x_index])\n",
    "plt.ylabel(feature_name[y_index])\n",
    "plt.tight_layout()\n",
    "plt.show()\n",
    "\n"
   ]
  },
  {
   "cell_type": "code",
   "execution_count": 30,
   "metadata": {
    "scrolled": true
   },
   "outputs": [
    {
     "data": {
      "image/png": "[encoded data removed]",
      "text/plain": [
       "<Figure size 360x288 with 2 Axes>"
      ]
     },
     "metadata": {
      "needs_background": "light"
     },
     "output_type": "display_data"
    }
   ],
   "source": [
    "indices = np.array(range(150))\n",
    "\n",
    "selected_features = features[indices,:]\n",
    "selected_labels = labels[indices]\n",
    "\n",
    "feature_name = ['sepal length (cm)', 'sepal width (cm)', 'petal width (cm)', 'petal width (cm)']\n",
    "\n",
    "x_index = 0\n",
    "y_index = 1\n",
    "\n",
    "plt.figure(figsize=(5,4))\n",
    "plt.scatter(selected_features[:,x_index], selected_features[:,y_index], c=selected_labels)\n",
    "plt.colorbar(ticks=[0,1,2])\n",
    "plt.xlabel(feature_name[x_index])\n",
    "plt.ylabel(feature_name[y_index])\n",
    "plt.tight_layout()\n",
    "plt.show()"
   ]
  },
  {
   "cell_type": "code",
   "execution_count": 31,
   "metadata": {},
   "outputs": [],
   "source": [
    "import torch"
   ]
  },
  {
   "cell_type": "code",
   "execution_count": 32,
   "metadata": {},
   "outputs": [
    {
     "name": "stdout",
     "output_type": "stream",
     "text": [
      "tensor([[0.3121, 0.7685, 0.1764],\n",
      "        [0.6101, 0.5287, 0.4037],\n",
      "        [0.5400, 0.1695, 0.7700],\n",
      "        [0.5955, 0.6102, 0.5595]])\n"
     ]
    }
   ],
   "source": [
    "x = torch.rand(4,3)\n",
    "print(x)"
   ]
  },
  {
   "cell_type": "code",
   "execution_count": 33,
   "metadata": {},
   "outputs": [
    {
     "name": "stdout",
     "output_type": "stream",
     "text": [
      "tensor([ 2.1000,  4.0000, -5.2000])\n"
     ]
    }
   ],
   "source": [
    "x = torch.tensor([2.1,4.0,-5.2])\n",
    "print(x)"
   ]
  },
  {
   "cell_type": "code",
   "execution_count": 34,
   "metadata": {},
   "outputs": [
    {
     "name": "stdout",
     "output_type": "stream",
     "text": [
      "tensor([[0., 0., 0.],\n",
      "        [0., 0., 0.],\n",
      "        [0., 0., 0.],\n",
      "        [0., 0., 0.]])\n"
     ]
    }
   ],
   "source": [
    "x = torch.zeros(4,3)\n",
    "print(x)"
   ]
  },
  {
   "cell_type": "code",
   "execution_count": 35,
   "metadata": {},
   "outputs": [
    {
     "name": "stdout",
     "output_type": "stream",
     "text": [
      "[ 2.1  4.  -5.2]\n",
      "tensor([ 2.1000,  4.0000, -5.2000], dtype=torch.float64)\n",
      "[ 2.1  4.  -5.2]\n"
     ]
    }
   ],
   "source": [
    "data = np.array([2.1,4.0,-5.2])\n",
    "print(data)\n",
    "x=torch.tensor(data)\n",
    "print(x)\n",
    "x_p=x.numpy()\n",
    "print(x_p)"
   ]
  },
  {
   "cell_type": "code",
   "execution_count": 36,
   "metadata": {},
   "outputs": [
    {
     "name": "stdout",
     "output_type": "stream",
     "text": [
      "torch.Size([4, 3])\n"
     ]
    }
   ],
   "source": [
    "x = torch.zeros(4,3)\n",
    "print(x.size())"
   ]
  },
  {
   "cell_type": "code",
   "execution_count": 47,
   "metadata": {},
   "outputs": [
    {
     "name": "stdout",
     "output_type": "stream",
     "text": [
      "tensor([[1.8464, 1.8767, 1.1315],\n",
      "        [1.6744, 1.3312, 1.5686],\n",
      "        [1.6296, 1.8132, 1.9038],\n",
      "        [1.9629, 1.6630, 1.7095]])\n"
     ]
    }
   ],
   "source": [
    "x = torch.rand(4,3)\n",
    "y = torch.ones(4,3)\n",
    "print(x+y)"
   ]
  },
  {
   "cell_type": "code",
   "execution_count": 48,
   "metadata": {},
   "outputs": [
    {
     "name": "stdout",
     "output_type": "stream",
     "text": [
      "tensor([[1.8464, 1.8767, 1.1315],\n",
      "        [1.6744, 1.3312, 1.5686],\n",
      "        [1.6296, 1.8132, 1.9038],\n",
      "        [1.9629, 1.6630, 1.7095]])\n"
     ]
    }
   ],
   "source": [
    "result = torch.ones(4,3)\n",
    "torch.add(x,y,out=result)\n",
    "print(result)"
   ]
  },
  {
   "cell_type": "code",
   "execution_count": 62,
   "metadata": {},
   "outputs": [
    {
     "name": "stdout",
     "output_type": "stream",
     "text": [
      "tensor([[ 1.7658, -1.5532,  0.8214],\n",
      "        [ 0.8071, -0.9594, -1.3674],\n",
      "        [-0.5192,  0.1494, -1.7947],\n",
      "        [ 1.0802,  0.4332, -0.5349]])\n",
      "tensor([ 1.7658, -1.5532,  0.8214,  0.8071, -0.9594, -1.3674, -0.5192,  0.1494,\n",
      "        -1.7947,  1.0802,  0.4332, -0.5349])\n",
      "tensor([[ 1.7658, -1.5532,  0.8214,  0.8071],\n",
      "        [-0.9594, -1.3674, -0.5192,  0.1494],\n",
      "        [-1.7947,  1.0802,  0.4332, -0.5349]])\n",
      "torch.Size([4, 3]) torch.Size([12]) torch.Size([3, 4])\n"
     ]
    }
   ],
   "source": [
    "x = torch.randn(4,3)\n",
    "print(x)\n",
    "y = x.view(12)\n",
    "print(y)\n",
    "z = x.view(-1,4)\n",
    "print(z)\n",
    "print(x.size(), y.size(), z.size())"
   ]
  },
  {
   "cell_type": "code",
   "execution_count": 65,
   "metadata": {},
   "outputs": [
    {
     "name": "stdout",
     "output_type": "stream",
     "text": [
      "tensor([ 0.8599, -0.0926])\n",
      "0.8598943948745728\n"
     ]
    }
   ],
   "source": [
    "x = torch.randn(2)\n",
    "print(x)\n",
    "print(x[0].item())"
   ]
  },
  {
   "cell_type": "code",
   "execution_count": 67,
   "metadata": {},
   "outputs": [
    {
     "name": "stdout",
     "output_type": "stream",
     "text": [
      "tensor([[0.0176, 0.6147, 0.3167],\n",
      "        [0.7725, 0.6676, 0.1949],\n",
      "        [0.6044, 0.6749, 0.2954],\n",
      "        [0.8782, 0.0844, 0.1992]], requires_grad=True)\n",
      "tensor([[100.3522, 112.6711, 106.4346],\n",
      "        [116.0461, 113.7968, 103.9353],\n",
      "        [112.4541, 113.9538, 105.9958],\n",
      "        [118.3357, 101.6949, 104.0230]], grad_fn=<MulBackward0>) tensor(109.1411, grad_fn=<MeanBackward0>)\n"
     ]
    }
   ],
   "source": [
    "x = torch.rand(4,3,requires_grad=True)\n",
    "print(x)\n",
    "\n",
    "y = x + 10\n",
    "z = y*y\n",
    "out = z.mean()\n",
    "print(z, out)"
   ]
  },
  {
   "cell_type": "code",
   "execution_count": 69,
   "metadata": {},
   "outputs": [],
   "source": [
    "from torchvision import datasets, transforms\n",
    "\n",
    "mnist_train = datasets.MNIST('data', train=True, download=True)\n",
    "mnist_train = list(mnist_train)[:2000]"
   ]
  },
  {
   "cell_type": "code",
   "execution_count": 70,
   "metadata": {},
   "outputs": [
    {
     "data": {
      "image/png": "[encoded data removed]",
      "text/plain": [
       "<Figure size 432x288 with 18 Axes>"
      ]
     },
     "metadata": {
      "needs_background": "light"
     },
     "output_type": "display_data"
    }
   ],
   "source": [
    "for k, (image, label) in enumerate(mnist_train[:18]):\n",
    "    plt.subplot(3, 6, k+1)\n",
    "    plt.imshow(image)"
   ]
  },
  {
   "cell_type": "code",
   "execution_count": 83,
   "metadata": {},
   "outputs": [],
   "source": [
    "import torch\n",
    "import torch.nn as nn\n",
    "import torch.nn.functional as F\n",
    "from torchvision import datasets, transforms\n",
    "import matplotlib.pyplot as plt # for plotting\n",
    "\n",
    "import torch.optim as optim\n",
    "\n",
    "torch.manual_seed(1) # set the random seed\n",
    "\n",
    "class Pigeon(nn.Module):\n",
    "    def __init__(self):\n",
    "        super(Pigeon, self).__init__()\n",
    "        self.layer1 = nn.Linear(28 * 28, 30)\n",
    "        self.layer2 = nn.Linear(30, 1)\n",
    "    def forward(self, img):\n",
    "        flattened = img.view(-1, 28 * 28)\n",
    "        activation1 = self.layer1(flattened)\n",
    "        activation1 = F.relu(activation1)\n",
    "        activation2 = self.layer2(activation1)\n",
    "        return activation2\n",
    "\n",
    "pigeon = Pigeon()"
   ]
  },
  {
   "cell_type": "code",
   "execution_count": 84,
   "metadata": {},
   "outputs": [
    {
     "name": "stdout",
     "output_type": "stream",
     "text": [
      "Parameter containing:\n",
      "tensor([[ 0.0184, -0.0158, -0.0069,  ...,  0.0068, -0.0041,  0.0025],\n",
      "        [-0.0274, -0.0224, -0.0309,  ..., -0.0029,  0.0013, -0.0167],\n",
      "        [ 0.0282, -0.0095, -0.0340,  ..., -0.0141,  0.0056, -0.0335],\n",
      "        ...,\n",
      "        [ 0.0267,  0.0186, -0.0326,  ...,  0.0047, -0.0072, -0.0301],\n",
      "        [-0.0190,  0.0291,  0.0221,  ...,  0.0067,  0.0206,  0.0151],\n",
      "        [ 0.0226,  0.0331,  0.0182,  ...,  0.0150,  0.0278, -0.0073]],\n",
      "       requires_grad=True)\n",
      "Parameter containing:\n",
      "tensor([-0.0210,  0.0144,  0.0214, -0.0018, -0.0185,  0.0275, -0.0284, -0.0248,\n",
      "        -0.0180, -0.0168, -0.0226, -0.0093,  0.0211, -0.0311,  0.0002, -0.0010,\n",
      "         0.0201,  0.0176, -0.0050,  0.0118, -0.0089,  0.0078, -0.0072,  0.0118,\n",
      "         0.0122, -0.0125,  0.0326,  0.0306,  0.0058, -0.0089],\n",
      "       requires_grad=True)\n"
     ]
    }
   ],
   "source": [
    "for w in pigeon.layer1.parameters():\n",
    "    print(w)"
   ]
  },
  {
   "cell_type": "code",
   "execution_count": 85,
   "metadata": {},
   "outputs": [
    {
     "name": "stdout",
     "output_type": "stream",
     "text": [
      "tensor([[0.5009]], grad_fn=<SigmoidBackward>)\n",
      "tensor([[0.5219]], grad_fn=<SigmoidBackward>)\n",
      "tensor([[0.4872]], grad_fn=<SigmoidBackward>)\n",
      "tensor([[0.5012]], grad_fn=<SigmoidBackward>)\n",
      "tensor([[0.4940]], grad_fn=<SigmoidBackward>)\n",
      "tensor([[0.4966]], grad_fn=<SigmoidBackward>)\n",
      "tensor([[0.5027]], grad_fn=<SigmoidBackward>)\n",
      "tensor([[0.4993]], grad_fn=<SigmoidBackward>)\n",
      "tensor([[0.4996]], grad_fn=<SigmoidBackward>)\n",
      "tensor([[0.4942]], grad_fn=<SigmoidBackward>)\n"
     ]
    }
   ],
   "source": [
    "img_to_tensor = transforms.ToTensor() #transform the image data into a 28x28 matrix of numbers\n",
    "\n",
    "for k, (image, label) in enumerate(mnist_train[:10]):\n",
    "    inval = img_to_tensor(image)\n",
    "    outval = pigeon(inval)       # find the output activation given input\n",
    "    prob = torch.sigmoid(outval) # turn the activation into a probability\n",
    "    print(prob)"
   ]
  },
  {
   "cell_type": "code",
   "execution_count": 87,
   "metadata": {},
   "outputs": [],
   "source": [
    "criterion = nn.BCEWithLogitsLoss()\n",
    "optimizer = optim.SGD(pigeon.parameters(), lr=0.005, momentum=0.9)"
   ]
  },
  {
   "cell_type": "code",
   "execution_count": 89,
   "metadata": {},
   "outputs": [],
   "source": [
    "for (image, label) in mnist_train[:1000]:\n",
    "    actual = torch.tensor(label<3).reshape([1,1]).type(torch.FloatTensor)\n",
    "    out = pigeon(img_to_tensor(image))\n",
    "    loss = criterion(out, actual)\n",
    "    loss.backward()\n",
    "    optimizer.step()\n",
    "    optimizer.zero_grad()"
   ]
  },
  {
   "cell_type": "code",
   "execution_count": 91,
   "metadata": {},
   "outputs": [
    {
     "name": "stdout",
     "output_type": "stream",
     "text": [
      "5 tensor([[0.0066]], grad_fn=<SigmoidBackward>)\n",
      "0 tensor([[0.9882]], grad_fn=<SigmoidBackward>)\n",
      "4 tensor([[0.0103]], grad_fn=<SigmoidBackward>)\n",
      "1 tensor([[0.9960]], grad_fn=<SigmoidBackward>)\n",
      "9 tensor([[0.0023]], grad_fn=<SigmoidBackward>)\n",
      "2 tensor([[0.8301]], grad_fn=<SigmoidBackward>)\n",
      "1 tensor([[0.9981]], grad_fn=<SigmoidBackward>)\n",
      "3 tensor([[0.0010]], grad_fn=<SigmoidBackward>)\n",
      "1 tensor([[0.9832]], grad_fn=<SigmoidBackward>)\n",
      "4 tensor([[0.0004]], grad_fn=<SigmoidBackward>)\n"
     ]
    }
   ],
   "source": [
    "for k, (image, label) in enumerate(mnist_train[:10]):\n",
    "    print(label, torch.sigmoid(pigeon(img_to_tensor(image))))"
   ]
  },
  {
   "cell_type": "code",
   "execution_count": 93,
   "metadata": {},
   "outputs": [
    {
     "name": "stdout",
     "output_type": "stream",
     "text": [
      "Training Error Rate:  0.312\n",
      "Training Accuaracy:  0.688\n"
     ]
    }
   ],
   "source": [
    "error = 0\n",
    "for (image, label) in mnist_train[:1000]:\n",
    "    prob = torch.sigmoid(pigeon(img_to_tensor(image)))\n",
    "    if (prob < 0.5 and label  < 3) or (prob >=  0.5 and label <= 3):\n",
    "        error += 1\n",
    "        \n",
    "print(\"Training Error Rate: \", error/1000)\n",
    "print(\"Training Accuaracy: \", 1 - error/1000)"
   ]
  },
  {
   "cell_type": "code",
   "execution_count": 94,
   "metadata": {},
   "outputs": [
    {
     "name": "stdout",
     "output_type": "stream",
     "text": [
      "Test Error Rate:  0.873\n",
      "Test Accuaracy:  0.127\n"
     ]
    }
   ],
   "source": [
    "error = 0\n",
    "for (image, label) in mnist_train[1000:2000]:\n",
    "    prob = torch.sigmoid(pigeon(img_to_tensor(image)))\n",
    "    if (prob < 0.5 and label > 3) or (prob >= 0.5 and label <= 3):\n",
    "        error += 1\n",
    "        \n",
    "print(\"Test Error Rate: \", error/1000)\n",
    "print(\"Test Accuaracy: \", 1- error/1000)"
   ]
  }
 ],
 "metadata": {
  "kernelspec": {
   "display_name": "Python 3",
   "language": "python",
   "name": "python3"
  },
  "language_info": {
   "codemirror_mode": {
    "name": "ipython",
    "version": 3
   },
   "file_extension": ".py",
   "mimetype": "text/x-python",
   "name": "python",
   "nbconvert_exporter": "python",
   "pygments_lexer": "ipython3",
   "version": "3.7.1"
  }
 },
 "nbformat": 4,
 "nbformat_minor": 2
}
